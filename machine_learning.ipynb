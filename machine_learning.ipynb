{
  "cells": [
    {
      "cell_type": "markdown",
      "metadata": {
        "id": "WuJhI64Qg-lp"
      },
      "source": [
        "# Starter point for the Machine Learning element of the coursework\n",
        "\n",
        "This part of the coursework uses the same dataset as used in the first part of the coursework. In this part of the coursework you are going to develop three machine learning models for predicting the **'median_house_value'** from the dataset. The focus here is on comparing the different models and looking at how you can improve them. You do not need to use a cleaned up version of the data (i.e. perform outlier removal in advance) but you may if you wish although please comment on this.\n",
        "\n",
        "Everything needed to complete this assignment should be available in the course slides, but external information from the interenet may prove useful and is encouraged. Please provide citations for resources used in the course."
      ]
    },
    {
      "cell_type": "markdown",
      "metadata": {
        "id": "VA6pBhl5epn3"
      },
      "source": [
        "### Load libraries and read in data"
      ]
    },
    {
      "cell_type": "code",
      "execution_count": null,
      "metadata": {
        "id": "KatzrPHcDdJT"
      },
      "outputs": [],
      "source": [
        "import pandas as pd\n",
        "houses = pd.read_csv('https://raw.githubusercontent.com/PaoloMissier/CSC3831-2021-22/main/IMPUTATION/TARGET-DATASETS/ORIGINAL/houses.csv', header=0)"
      ]
    },
    {
      "cell_type": "markdown",
      "metadata": {
        "id": "lFW7ooO2DA6Q"
      },
      "source": [
        "### (Optional) Preprocessing and Data Exploration\n",
        "What data exploration would you perform to get a sense of the data, and what preprocessing outside of feature normalasation would you perform? This section is an optional place for students to do additional work on the data before progressing into the assignment proper."
      ]
    },
    {
      "cell_type": "code",
      "source": [
        "import numpy as np\n",
        "from scipy.stats import zscore\n",
        "\n",
        "numerical_columns = houses.select_dtypes(include=[np.number])\n",
        "z_scores = np.abs(zscore(numerical_columns))\n",
        "threshold = 3\n",
        "outlier_indices = np.where(z_scores > threshold)\n",
        "houses_no_outliers = houses.drop(index=outlier_indices[0])\n",
        "\n",
        "# Print the shape before and after removing outliers\n",
        "print(f\"Shape before removing outliers: {houses.shape}\")\n",
        "print(f\"Shape after removing outliers: {houses_no_outliers.shape}\")"
      ],
      "metadata": {
        "id": "NbCdAgL6qRLE",
        "colab": {
          "base_uri": "https://localhost:8080/"
        },
        "outputId": "cf7c143b-7ef8-443c-e912-ffed7a193859"
      },
      "execution_count": null,
      "outputs": [
        {
          "output_type": "stream",
          "name": "stdout",
          "text": [
            "Shape before removing outliers: (20640, 9)\n",
            "Shape after removing outliers: (19748, 9)\n"
          ]
        }
      ]
    },
    {
      "cell_type": "markdown",
      "source": [
        "The dataset may have outliers because of the large range, which cause extreme value to exist. Z-Score normalisation is applied to remove those kind of outliers to make the data more suitable to be trained in machine learning models later."
      ],
      "metadata": {
        "id": "nUofHO4XfGUD"
      }
    },
    {
      "cell_type": "markdown",
      "metadata": {
        "id": "lb1pl1pjeoSN"
      },
      "source": [
        "## Data Preparation\n",
        "In this section you will perform feature selection, feature normalisation, and provide a rationale for your actions."
      ]
    },
    {
      "cell_type": "markdown",
      "metadata": {
        "id": "msoA7szuDA6R"
      },
      "source": [
        "### Feature Selection\n",
        "Think about which features may be useful in predicting **'median_house_value'**, are all features in the provided data set useful? Is a subset all that's needed? What techniques can you utilise to make this determination?"
      ]
    },
    {
      "cell_type": "code",
      "execution_count": null,
      "metadata": {
        "id": "oUMNolVvEMss",
        "colab": {
          "base_uri": "https://localhost:8080/",
          "height": 332
        },
        "outputId": "4b5e724f-4277-4c6a-d3bf-b7c142c5d553"
      },
      "outputs": [
        {
          "output_type": "execute_result",
          "data": {
            "text/plain": [
              "                    median_house_value  median_income  housing_median_age  \\\n",
              "median_house_value            1.000000       0.688075            0.105623   \n",
              "median_income                 0.688075       1.000000           -0.119034   \n",
              "housing_median_age            0.105623      -0.119034            1.000000   \n",
              "total_rooms                   0.134153       0.198050           -0.361262   \n",
              "total_bedrooms                0.050594      -0.008093           -0.320485   \n",
              "population                   -0.024650       0.004834           -0.296244   \n",
              "households                    0.065843       0.013033           -0.302916   \n",
              "latitude                     -0.144160      -0.079809            0.011173   \n",
              "longitude                    -0.045967      -0.015176           -0.108197   \n",
              "\n",
              "                    total_rooms  total_bedrooms  population  households  \\\n",
              "median_house_value     0.134153        0.050594   -0.024650    0.065843   \n",
              "median_income          0.198050       -0.008093    0.004834    0.013033   \n",
              "housing_median_age    -0.361262       -0.320485   -0.296244   -0.302916   \n",
              "total_rooms            1.000000        0.929893    0.857126    0.918484   \n",
              "total_bedrooms         0.929893        1.000000    0.878026    0.979829   \n",
              "population             0.857126        0.878026    1.000000    0.907222   \n",
              "households             0.918484        0.979829    0.907222    1.000000   \n",
              "latitude              -0.036100       -0.066318   -0.108785   -0.071035   \n",
              "longitude              0.044568        0.068378    0.099773    0.055310   \n",
              "\n",
              "                    latitude  longitude  \n",
              "median_house_value -0.144160  -0.045967  \n",
              "median_income      -0.079809  -0.015176  \n",
              "housing_median_age  0.011173  -0.108197  \n",
              "total_rooms        -0.036100   0.044568  \n",
              "total_bedrooms     -0.066318   0.068378  \n",
              "population         -0.108785   0.099773  \n",
              "households         -0.071035   0.055310  \n",
              "latitude            1.000000  -0.924664  \n",
              "longitude          -0.924664   1.000000  "
            ],
            "text/html": [
              "\n",
              "  <div id=\"df-052e843c-a007-4d65-9ba5-00d92225ef67\" class=\"colab-df-container\">\n",
              "    <div>\n",
              "<style scoped>\n",
              "    .dataframe tbody tr th:only-of-type {\n",
              "        vertical-align: middle;\n",
              "    }\n",
              "\n",
              "    .dataframe tbody tr th {\n",
              "        vertical-align: top;\n",
              "    }\n",
              "\n",
              "    .dataframe thead th {\n",
              "        text-align: right;\n",
              "    }\n",
              "</style>\n",
              "<table border=\"1\" class=\"dataframe\">\n",
              "  <thead>\n",
              "    <tr style=\"text-align: right;\">\n",
              "      <th></th>\n",
              "      <th>median_house_value</th>\n",
              "      <th>median_income</th>\n",
              "      <th>housing_median_age</th>\n",
              "      <th>total_rooms</th>\n",
              "      <th>total_bedrooms</th>\n",
              "      <th>population</th>\n",
              "      <th>households</th>\n",
              "      <th>latitude</th>\n",
              "      <th>longitude</th>\n",
              "    </tr>\n",
              "  </thead>\n",
              "  <tbody>\n",
              "    <tr>\n",
              "      <th>median_house_value</th>\n",
              "      <td>1.000000</td>\n",
              "      <td>0.688075</td>\n",
              "      <td>0.105623</td>\n",
              "      <td>0.134153</td>\n",
              "      <td>0.050594</td>\n",
              "      <td>-0.024650</td>\n",
              "      <td>0.065843</td>\n",
              "      <td>-0.144160</td>\n",
              "      <td>-0.045967</td>\n",
              "    </tr>\n",
              "    <tr>\n",
              "      <th>median_income</th>\n",
              "      <td>0.688075</td>\n",
              "      <td>1.000000</td>\n",
              "      <td>-0.119034</td>\n",
              "      <td>0.198050</td>\n",
              "      <td>-0.008093</td>\n",
              "      <td>0.004834</td>\n",
              "      <td>0.013033</td>\n",
              "      <td>-0.079809</td>\n",
              "      <td>-0.015176</td>\n",
              "    </tr>\n",
              "    <tr>\n",
              "      <th>housing_median_age</th>\n",
              "      <td>0.105623</td>\n",
              "      <td>-0.119034</td>\n",
              "      <td>1.000000</td>\n",
              "      <td>-0.361262</td>\n",
              "      <td>-0.320485</td>\n",
              "      <td>-0.296244</td>\n",
              "      <td>-0.302916</td>\n",
              "      <td>0.011173</td>\n",
              "      <td>-0.108197</td>\n",
              "    </tr>\n",
              "    <tr>\n",
              "      <th>total_rooms</th>\n",
              "      <td>0.134153</td>\n",
              "      <td>0.198050</td>\n",
              "      <td>-0.361262</td>\n",
              "      <td>1.000000</td>\n",
              "      <td>0.929893</td>\n",
              "      <td>0.857126</td>\n",
              "      <td>0.918484</td>\n",
              "      <td>-0.036100</td>\n",
              "      <td>0.044568</td>\n",
              "    </tr>\n",
              "    <tr>\n",
              "      <th>total_bedrooms</th>\n",
              "      <td>0.050594</td>\n",
              "      <td>-0.008093</td>\n",
              "      <td>-0.320485</td>\n",
              "      <td>0.929893</td>\n",
              "      <td>1.000000</td>\n",
              "      <td>0.878026</td>\n",
              "      <td>0.979829</td>\n",
              "      <td>-0.066318</td>\n",
              "      <td>0.068378</td>\n",
              "    </tr>\n",
              "    <tr>\n",
              "      <th>population</th>\n",
              "      <td>-0.024650</td>\n",
              "      <td>0.004834</td>\n",
              "      <td>-0.296244</td>\n",
              "      <td>0.857126</td>\n",
              "      <td>0.878026</td>\n",
              "      <td>1.000000</td>\n",
              "      <td>0.907222</td>\n",
              "      <td>-0.108785</td>\n",
              "      <td>0.099773</td>\n",
              "    </tr>\n",
              "    <tr>\n",
              "      <th>households</th>\n",
              "      <td>0.065843</td>\n",
              "      <td>0.013033</td>\n",
              "      <td>-0.302916</td>\n",
              "      <td>0.918484</td>\n",
              "      <td>0.979829</td>\n",
              "      <td>0.907222</td>\n",
              "      <td>1.000000</td>\n",
              "      <td>-0.071035</td>\n",
              "      <td>0.055310</td>\n",
              "    </tr>\n",
              "    <tr>\n",
              "      <th>latitude</th>\n",
              "      <td>-0.144160</td>\n",
              "      <td>-0.079809</td>\n",
              "      <td>0.011173</td>\n",
              "      <td>-0.036100</td>\n",
              "      <td>-0.066318</td>\n",
              "      <td>-0.108785</td>\n",
              "      <td>-0.071035</td>\n",
              "      <td>1.000000</td>\n",
              "      <td>-0.924664</td>\n",
              "    </tr>\n",
              "    <tr>\n",
              "      <th>longitude</th>\n",
              "      <td>-0.045967</td>\n",
              "      <td>-0.015176</td>\n",
              "      <td>-0.108197</td>\n",
              "      <td>0.044568</td>\n",
              "      <td>0.068378</td>\n",
              "      <td>0.099773</td>\n",
              "      <td>0.055310</td>\n",
              "      <td>-0.924664</td>\n",
              "      <td>1.000000</td>\n",
              "    </tr>\n",
              "  </tbody>\n",
              "</table>\n",
              "</div>\n",
              "    <div class=\"colab-df-buttons\">\n",
              "\n",
              "  <div class=\"colab-df-container\">\n",
              "    <button class=\"colab-df-convert\" onclick=\"convertToInteractive('df-052e843c-a007-4d65-9ba5-00d92225ef67')\"\n",
              "            title=\"Convert this dataframe to an interactive table.\"\n",
              "            style=\"display:none;\">\n",
              "\n",
              "  <svg xmlns=\"http://www.w3.org/2000/svg\" height=\"24px\" viewBox=\"0 -960 960 960\">\n",
              "    <path d=\"M120-120v-720h720v720H120Zm60-500h600v-160H180v160Zm220 220h160v-160H400v160Zm0 220h160v-160H400v160ZM180-400h160v-160H180v160Zm440 0h160v-160H620v160ZM180-180h160v-160H180v160Zm440 0h160v-160H620v160Z\"/>\n",
              "  </svg>\n",
              "    </button>\n",
              "\n",
              "  <style>\n",
              "    .colab-df-container {\n",
              "      display:flex;\n",
              "      gap: 12px;\n",
              "    }\n",
              "\n",
              "    .colab-df-convert {\n",
              "      background-color: #E8F0FE;\n",
              "      border: none;\n",
              "      border-radius: 50%;\n",
              "      cursor: pointer;\n",
              "      display: none;\n",
              "      fill: #1967D2;\n",
              "      height: 32px;\n",
              "      padding: 0 0 0 0;\n",
              "      width: 32px;\n",
              "    }\n",
              "\n",
              "    .colab-df-convert:hover {\n",
              "      background-color: #E2EBFA;\n",
              "      box-shadow: 0px 1px 2px rgba(60, 64, 67, 0.3), 0px 1px 3px 1px rgba(60, 64, 67, 0.15);\n",
              "      fill: #174EA6;\n",
              "    }\n",
              "\n",
              "    .colab-df-buttons div {\n",
              "      margin-bottom: 4px;\n",
              "    }\n",
              "\n",
              "    [theme=dark] .colab-df-convert {\n",
              "      background-color: #3B4455;\n",
              "      fill: #D2E3FC;\n",
              "    }\n",
              "\n",
              "    [theme=dark] .colab-df-convert:hover {\n",
              "      background-color: #434B5C;\n",
              "      box-shadow: 0px 1px 3px 1px rgba(0, 0, 0, 0.15);\n",
              "      filter: drop-shadow(0px 1px 2px rgba(0, 0, 0, 0.3));\n",
              "      fill: #FFFFFF;\n",
              "    }\n",
              "  </style>\n",
              "\n",
              "    <script>\n",
              "      const buttonEl =\n",
              "        document.querySelector('#df-052e843c-a007-4d65-9ba5-00d92225ef67 button.colab-df-convert');\n",
              "      buttonEl.style.display =\n",
              "        google.colab.kernel.accessAllowed ? 'block' : 'none';\n",
              "\n",
              "      async function convertToInteractive(key) {\n",
              "        const element = document.querySelector('#df-052e843c-a007-4d65-9ba5-00d92225ef67');\n",
              "        const dataTable =\n",
              "          await google.colab.kernel.invokeFunction('convertToInteractive',\n",
              "                                                    [key], {});\n",
              "        if (!dataTable) return;\n",
              "\n",
              "        const docLinkHtml = 'Like what you see? Visit the ' +\n",
              "          '<a target=\"_blank\" href=https://colab.research.google.com/notebooks/data_table.ipynb>data table notebook</a>'\n",
              "          + ' to learn more about interactive tables.';\n",
              "        element.innerHTML = '';\n",
              "        dataTable['output_type'] = 'display_data';\n",
              "        await google.colab.output.renderOutput(dataTable, element);\n",
              "        const docLink = document.createElement('div');\n",
              "        docLink.innerHTML = docLinkHtml;\n",
              "        element.appendChild(docLink);\n",
              "      }\n",
              "    </script>\n",
              "  </div>\n",
              "\n",
              "\n",
              "<div id=\"df-b39a27a4-a56f-4acc-bb44-91f4de6b73e3\">\n",
              "  <button class=\"colab-df-quickchart\" onclick=\"quickchart('df-b39a27a4-a56f-4acc-bb44-91f4de6b73e3')\"\n",
              "            title=\"Suggest charts\"\n",
              "            style=\"display:none;\">\n",
              "\n",
              "<svg xmlns=\"http://www.w3.org/2000/svg\" height=\"24px\"viewBox=\"0 0 24 24\"\n",
              "     width=\"24px\">\n",
              "    <g>\n",
              "        <path d=\"M19 3H5c-1.1 0-2 .9-2 2v14c0 1.1.9 2 2 2h14c1.1 0 2-.9 2-2V5c0-1.1-.9-2-2-2zM9 17H7v-7h2v7zm4 0h-2V7h2v10zm4 0h-2v-4h2v4z\"/>\n",
              "    </g>\n",
              "</svg>\n",
              "  </button>\n",
              "\n",
              "<style>\n",
              "  .colab-df-quickchart {\n",
              "      --bg-color: #E8F0FE;\n",
              "      --fill-color: #1967D2;\n",
              "      --hover-bg-color: #E2EBFA;\n",
              "      --hover-fill-color: #174EA6;\n",
              "      --disabled-fill-color: #AAA;\n",
              "      --disabled-bg-color: #DDD;\n",
              "  }\n",
              "\n",
              "  [theme=dark] .colab-df-quickchart {\n",
              "      --bg-color: #3B4455;\n",
              "      --fill-color: #D2E3FC;\n",
              "      --hover-bg-color: #434B5C;\n",
              "      --hover-fill-color: #FFFFFF;\n",
              "      --disabled-bg-color: #3B4455;\n",
              "      --disabled-fill-color: #666;\n",
              "  }\n",
              "\n",
              "  .colab-df-quickchart {\n",
              "    background-color: var(--bg-color);\n",
              "    border: none;\n",
              "    border-radius: 50%;\n",
              "    cursor: pointer;\n",
              "    display: none;\n",
              "    fill: var(--fill-color);\n",
              "    height: 32px;\n",
              "    padding: 0;\n",
              "    width: 32px;\n",
              "  }\n",
              "\n",
              "  .colab-df-quickchart:hover {\n",
              "    background-color: var(--hover-bg-color);\n",
              "    box-shadow: 0 1px 2px rgba(60, 64, 67, 0.3), 0 1px 3px 1px rgba(60, 64, 67, 0.15);\n",
              "    fill: var(--button-hover-fill-color);\n",
              "  }\n",
              "\n",
              "  .colab-df-quickchart-complete:disabled,\n",
              "  .colab-df-quickchart-complete:disabled:hover {\n",
              "    background-color: var(--disabled-bg-color);\n",
              "    fill: var(--disabled-fill-color);\n",
              "    box-shadow: none;\n",
              "  }\n",
              "\n",
              "  .colab-df-spinner {\n",
              "    border: 2px solid var(--fill-color);\n",
              "    border-color: transparent;\n",
              "    border-bottom-color: var(--fill-color);\n",
              "    animation:\n",
              "      spin 1s steps(1) infinite;\n",
              "  }\n",
              "\n",
              "  @keyframes spin {\n",
              "    0% {\n",
              "      border-color: transparent;\n",
              "      border-bottom-color: var(--fill-color);\n",
              "      border-left-color: var(--fill-color);\n",
              "    }\n",
              "    20% {\n",
              "      border-color: transparent;\n",
              "      border-left-color: var(--fill-color);\n",
              "      border-top-color: var(--fill-color);\n",
              "    }\n",
              "    30% {\n",
              "      border-color: transparent;\n",
              "      border-left-color: var(--fill-color);\n",
              "      border-top-color: var(--fill-color);\n",
              "      border-right-color: var(--fill-color);\n",
              "    }\n",
              "    40% {\n",
              "      border-color: transparent;\n",
              "      border-right-color: var(--fill-color);\n",
              "      border-top-color: var(--fill-color);\n",
              "    }\n",
              "    60% {\n",
              "      border-color: transparent;\n",
              "      border-right-color: var(--fill-color);\n",
              "    }\n",
              "    80% {\n",
              "      border-color: transparent;\n",
              "      border-right-color: var(--fill-color);\n",
              "      border-bottom-color: var(--fill-color);\n",
              "    }\n",
              "    90% {\n",
              "      border-color: transparent;\n",
              "      border-bottom-color: var(--fill-color);\n",
              "    }\n",
              "  }\n",
              "</style>\n",
              "\n",
              "  <script>\n",
              "    async function quickchart(key) {\n",
              "      const quickchartButtonEl =\n",
              "        document.querySelector('#' + key + ' button');\n",
              "      quickchartButtonEl.disabled = true;  // To prevent multiple clicks.\n",
              "      quickchartButtonEl.classList.add('colab-df-spinner');\n",
              "      try {\n",
              "        const charts = await google.colab.kernel.invokeFunction(\n",
              "            'suggestCharts', [key], {});\n",
              "      } catch (error) {\n",
              "        console.error('Error during call to suggestCharts:', error);\n",
              "      }\n",
              "      quickchartButtonEl.classList.remove('colab-df-spinner');\n",
              "      quickchartButtonEl.classList.add('colab-df-quickchart-complete');\n",
              "    }\n",
              "    (() => {\n",
              "      let quickchartButtonEl =\n",
              "        document.querySelector('#df-b39a27a4-a56f-4acc-bb44-91f4de6b73e3 button');\n",
              "      quickchartButtonEl.style.display =\n",
              "        google.colab.kernel.accessAllowed ? 'block' : 'none';\n",
              "    })();\n",
              "  </script>\n",
              "</div>\n",
              "    </div>\n",
              "  </div>\n"
            ]
          },
          "metadata": {},
          "execution_count": 3
        }
      ],
      "source": [
        "houses.corr()"
      ]
    },
    {
      "cell_type": "code",
      "source": [
        "import seaborn as sns\n",
        "import matplotlib.pyplot as plt\n",
        "\n",
        "plt.figure(figsize=(12, 8))\n",
        "sns.heatmap(houses.corr(), annot=True, cmap='coolwarm', fmt=\".2f\", linewidths=.5)\n",
        "plt.title(\"Correlation Matrix\")\n",
        "plt.show()"
      ],
      "metadata": {
        "colab": {
          "base_uri": "https://localhost:8080/",
          "height": 831
        },
        "id": "Lk8BBr3seDoz",
        "outputId": "1adecf92-cbf9-4d5d-91cc-25ef54fa96bc"
      },
      "execution_count": null,
      "outputs": [
        {
          "output_type": "display_data",
          "data": {
            "text/plain": [
              "<Figure size 1200x800 with 2 Axes>"
            ],
            "image/png": "[encoded data removed]"
          },
          "metadata": {}
        }
      ]
    },
    {
      "cell_type": "markdown",
      "metadata": {
        "id": "PYgEXlSfDA6S"
      },
      "source": [
        "### Feature Normalisation\n",
        "Think about what normalisation/standardisation methods you should apply to the dataset given what you understand about the raw data."
      ]
    },
    {
      "cell_type": "code",
      "execution_count": null,
      "metadata": {
        "id": "SLzgDQ7GDA6S"
      },
      "outputs": [],
      "source": [
        "from sklearn.preprocessing import StandardScaler\n",
        "scaler = StandardScaler()\n",
        "houses_standardized = scaler.fit_transform(houses[houses.columns])\n",
        "normalised_houses = pd.DataFrame(houses_standardized, columns=houses.columns)"
      ]
    },
    {
      "cell_type": "markdown",
      "metadata": {
        "id": "iNe1iN9MDA6S"
      },
      "source": [
        "### Rationale\n",
        "Provide your rationale for both Feature Selection and Feature Normalisation here."
      ]
    },
    {
      "cell_type": "markdown",
      "metadata": {
        "id": "uefT1eFwDA6S"
      },
      "source": [
        "**Feature Selection:**<br>\n",
        "To consider which features are useful for predicting the 'median_house_value' in the houses dataset, correlation analysis is applied to compute the correlation between each column and the 'median_house_value'. For correlation analysis, positive value result indicate a positive correlation, while negative value result indicate a negative correlation. From the result, 'median_income' has the highest correlation where the value is 0.69. It suggests that as the median income increases, the median house value tends to increase. Although both 'total_rooms' and 'housing_median_age' have positive value of 0.13 and 0.11, the value are much smaller than 'median_income' indciating that there are still some relationship but are not strong enough for prediction. For the 'households', 'total_bedrooms, and 'population' columns, they have moderate to strong positive and negative correlations with 'total_rooms' and 'housing_median_age', suggesting they have impact on predicting 'median_house_value'. For 'longitude', and 'latitude' columns, they have correlations of near 0 with all other columns, suggesting that their value has no impact on predicting the target value. Therefore, 'total_rooms', 'housing_median_age', 'households', 'total_bedrooms, and 'population' columns are used for predicting 'median_house_value'.\n",
        "\n",
        "Training predictive models using different subsets of features can utilise the determination. For example, finding the mean squared error and R-squared value. By using the result, we can compare the performance of models with different feature subsets to identify which set of features provide the best results. After that we can determine whether a subset is enough or not for the prediction.\n",
        "\n",
        "**Feature Normalisation:**<br>\n",
        "Z-score standardisation is applied to normalise the data because different columns in the houses dataset have different scales. It can ensure that all features are scaled to a common scale, making them comparable. It is noticable that some of the columns have large range, for example, the 'total_rooms' column has minimum of 2 and maximum of 39320. ALso, it transforms data into a consistent, standard format, making it easier for machine learning."
      ]
    },
    {
      "cell_type": "markdown",
      "metadata": {
        "id": "hhYQd16ze4ci"
      },
      "source": [
        "## Train, Validate, Test Split\n",
        "In this section you will perform a train, validate, test split utilisation the knowledge learned in class and provide a rationale for your actions."
      ]
    },
    {
      "cell_type": "markdown",
      "metadata": {
        "id": "ADB5HRNdDA6S"
      },
      "source": [
        "### Perform Data Split\n",
        "Utilise the information from class or online to split your data into train, validate, and test partitions."
      ]
    },
    {
      "cell_type": "code",
      "execution_count": null,
      "metadata": {
        "id": "LHqwFVZKFhI3"
      },
      "outputs": [],
      "source": [
        "from sklearn.model_selection import train_test_split\n",
        "\n",
        "# selected_features = ['median_income', 'total_rooms', 'housing_median_age']\n",
        "# X = normalised_houses[selected_features]\n",
        "X = normalised_houses.drop(['median_house_value', 'longitude', 'latitude'], axis=1)\n",
        "y = normalised_houses['median_house_value']\n",
        "\n",
        "X_train_temp, X_test, y_train_temp, y_test = train_test_split(X, y, test_size=0.2, random_state=42)\n",
        "\n",
        "X_train, X_val, y_train, y_val = train_test_split(X_train_temp, y_train_temp, test_size=0.5, random_state=42)"
      ]
    },
    {
      "cell_type": "markdown",
      "metadata": {
        "id": "wMDaBMD8DA6T"
      },
      "source": [
        "### Rationale\n",
        "Provide a rationale for how you made your train, test, split decision."
      ]
    },
    {
      "cell_type": "markdown",
      "metadata": {
        "id": "HzchFJ0ODA6T"
      },
      "source": [
        "As mentioned in the feature selection section, 'total_rooms', 'housing_median_age', 'households', 'total_bedrooms, and 'population' columns has relatively high and positive correlation with 'median_house_value', all these columns are used to predict 'median_house_value' value. The variable 'X' is for the feature matrix and 'y' is for the target variable. All the columns used for predicting 'median_house_value' are stored in 'X', and the target variable 'median_house_value' is stored in 'y'.\n",
        "\n",
        "The data is split into a training set (X_train, y_train), a validation set (X_val, y_val), and a test set (X_test, y_test). 50% of the data is allocated for training, 20% of the data is allocated for validation, and 20% of the data is allocated for testing."
      ]
    },
    {
      "cell_type": "markdown",
      "metadata": {
        "id": "_u3ivZ2dfCtm"
      },
      "source": [
        "## Metric Selection\n",
        "In this section your will make appropriate metric selection for analysing your models and provide a rationale."
      ]
    },
    {
      "cell_type": "markdown",
      "metadata": {
        "id": "M-1HN4UbDA6T"
      },
      "source": [
        "### Select Appropriate Metrics\n",
        "Think about the models you are building, and what the appropriate metrics and scoring should be for those models."
      ]
    },
    {
      "cell_type": "markdown",
      "metadata": {
        "id": "pnLKRL9gDA6T"
      },
      "source": [
        "Linear Regression, Support Vector Machine (SVM) Regressor, and Random Forest Regressor models are built for predicting the value of 'median_house_value'. Linear regression models the relationship between a dependent variable and one or more independent variable with linear equation. Support Vector Machine (SVM) Regressor finds the hyperplane that best fits the data, and aims to minimize the error between the predicted and actual values. Random Forest Regressor builds a lot of decision trees during training and displays the average prediction of the individual trees for regression tasks.\n",
        "\n",
        "For all Linear Regression, Support Vector Machine (SVM) Regressor, and Random Forest Regressor models, the Mean Squared Error (MSE), Root Mean Squared Error (RMSE), and R-squared (R2) are appropriate for metrics. 'Neg_mean_squared_error' is appropriate to be used for scoring in the GridSearchCV, where 'neg' indicates that the metric is being minimized."
      ]
    },
    {
      "cell_type": "markdown",
      "metadata": {
        "id": "5PKr0-zoDA6T"
      },
      "source": [
        "### Rationale\n",
        "Provide a rationale for your metrics and scoring selection."
      ]
    },
    {
      "cell_type": "markdown",
      "metadata": {
        "id": "Wx78dvMPDA6T"
      },
      "source": [
        "**Metrics**\n",
        "\n",
        "Firstly, for Mean Squared Error (MSE), it measures the average squared difference between predicted and actual values. It provides a comprehensive evaluation of prediction accuracy of each model used. The smaller the value of MSE, the better the predictive performace of the model.\n",
        "\n",
        "For Root Mean Squared Error (RMSE), it is the square root of MSE, and it is used for understanding the average magnitude of errors in the same units as the target variable. Smaller value of RMSE indicates that the prediction is closer to the actual value.\n",
        "\n",
        "For R-squared (R2), it represents the proportion of the variance in the target variable ('median_house_value') that is predictable from the independent variables. The higher the R2 value, the better the model explains the data.\n",
        "\n",
        "**Scoring**<br>\n",
        "For the 'neg_mean_squared_error' in GridSearchCV, it aims to maximize the scoring function, so using the negative MSE is suitable because lower MSE values indicates the prediction is better. Hence, it improves the model performance."
      ]
    },
    {
      "cell_type": "markdown",
      "metadata": {
        "id": "bVN7d-rdfK8Q"
      },
      "source": [
        "## Machine Learning Model 1\n",
        "In this section your will select an appropriate machine learning model for predicting **'median_house_value'**, apply it to the dataset to perform this prediction on the test set created in the Train, Validate, Test Split section, and comment on the predictive ability of the model you selected."
      ]
    },
    {
      "cell_type": "markdown",
      "metadata": {
        "id": "aqnM5D5MDA6T"
      },
      "source": [
        "### Select and Build a Machine Learning Model 1\n",
        "Think about the task at hand, and select an appropriate model to build on the train and validate data. Try different sets of hyper-parameters to improve your model."
      ]
    },
    {
      "cell_type": "code",
      "execution_count": null,
      "metadata": {
        "id": "OrCts1npGGXB",
        "colab": {
          "base_uri": "https://localhost:8080/"
        },
        "outputId": "caa4edbc-f5f5-4b64-befc-84552e9681fc"
      },
      "outputs": [
        {
          "output_type": "stream",
          "name": "stdout",
          "text": [
            "Best Hyperparameters: {'fit_intercept': False}\n",
            "--- Training Set Results ---\n",
            "Best Hyperparameters: {'fit_intercept': False}\n",
            "Root Mean Squared Error on Training Set: 0.654\n",
            "Mean Squared Error on Training Set: 0.428\n",
            "R-squared on Training Set: 0.566\n",
            "Root Mean Squared Error on Validation Set: 0.66\n",
            "Mean Squared Error on Validation Set: 0.436\n",
            "R-squared on Validation Set: 0.574\n"
          ]
        }
      ],
      "source": [
        "from sklearn.linear_model import LinearRegression\n",
        "from sklearn.model_selection import GridSearchCV\n",
        "from sklearn.metrics import mean_squared_error, r2_score\n",
        "import numpy as np\n",
        "\n",
        "linear_reg_model = LinearRegression()\n",
        "param_grid = {'fit_intercept': [True, False]}\n",
        "grid_search = GridSearchCV(estimator=linear_reg_model, param_grid=param_grid, scoring='neg_mean_squared_error', cv=5)\n",
        "grid_search.fit(X_train, y_train)\n",
        "best_params = grid_search.best_params_\n",
        "print(f'Best Hyperparameters: {best_params}')\n",
        "\n",
        "best_linear_reg_model = LinearRegression(**best_params)\n",
        "best_linear_reg_model.fit(X_train, y_train)\n",
        "\n",
        "y_train_pred = best_linear_reg_model.predict(X_train)\n",
        "\n",
        "mse_train = mean_squared_error(y_train, y_train_pred)\n",
        "rmse_train = np.sqrt(mse_train)\n",
        "r2_train = r2_score(y_train, y_train_pred)\n",
        "print(f'--- Training Set Results ---')\n",
        "print(f'Best Hyperparameters: {best_params}')\n",
        "print(f'Root Mean Squared Error on Training Set: {round(rmse_train, 3)}')\n",
        "print(f'Mean Squared Error on Training Set: {round(mse_train, 3)}')\n",
        "print(f'R-squared on Training Set: {round(r2_train, 3)}')\n",
        "\n",
        "y_val_pred = best_linear_reg_model.predict(X_val)\n",
        "\n",
        "mse_val = mean_squared_error(y_val, y_val_pred)\n",
        "rmse_val = np.sqrt(mse_val)\n",
        "r2_val = r2_score(y_val, y_val_pred)\n",
        "print(f'Root Mean Squared Error on Validation Set: {round(rmse_val, 3)}')\n",
        "print(f'Mean Squared Error on Validation Set: {round(mse_val, 3)}')\n",
        "print(f'R-squared on Validation Set: {round(r2_val, 3)}')\n"
      ]
    },
    {
      "cell_type": "markdown",
      "metadata": {
        "id": "IPkAtn0WDA6U"
      },
      "source": [
        "### Use Model 1 to Predict on Test Data\n",
        "Use the model you've trained to predict **'median_house_value'** on the test data."
      ]
    },
    {
      "cell_type": "code",
      "execution_count": null,
      "metadata": {
        "id": "cAB9gTDnDA6U",
        "colab": {
          "base_uri": "https://localhost:8080/"
        },
        "outputId": "bf618feb-9d7b-4f29-d193-fb9c8cf647ec"
      },
      "outputs": [
        {
          "output_type": "stream",
          "name": "stdout",
          "text": [
            "--- Test Set Results ---\n",
            "Root Mean Squared Error on Test Set: 0.664\n",
            "Mean Squared Error on Test Set: 0.441\n",
            "R-squared on Test Set: 0.552\n"
          ]
        }
      ],
      "source": [
        "# Trained model is used to predict 'median_house_value' on the test data\n",
        "y_test_pred = best_linear_reg_model.predict(X_test)\n",
        "\n",
        "mse_test = mean_squared_error(y_test, y_test_pred)\n",
        "rmse_test = np.sqrt(mse_test)\n",
        "r2_test = r2_score(y_test, y_test_pred)\n",
        "\n",
        "print('--- Test Set Results ---')\n",
        "print(f'Root Mean Squared Error on Test Set: {round(rmse_test, 3)}')\n",
        "print(f'Mean Squared Error on Test Set: {round(mse_test, 3)}')\n",
        "print(f'R-squared on Test Set: {round(r2_test, 3)}')"
      ]
    },
    {
      "cell_type": "markdown",
      "metadata": {
        "id": "pzDRc_BKDA6U"
      },
      "source": [
        "### Rationale\n",
        "Provide a rationale for model"
      ]
    },
    {
      "cell_type": "markdown",
      "metadata": {
        "id": "T6cZqmegDA6U"
      },
      "source": [
        "**Machine Learning Model 1: Linear Regression**<br>\n",
        "In this section, Linear Regression model is applied to build on the train and validate data. Firstly, the Linear regression model is initialised with LinearRegression(), and hyperparameters is defined for a later grid search. Grid search, which is used for finding the best hyperparameters for the model, is applied on the training set. After obtaining the best hyperparameter from the Grid search, it is applied to create a new Linear Regression model. The new Linear Regression model is then used to train the training set. Prediction is then made to the train, validate, and test. The Root Mean Squared Error (RMSE), Mean Squared Error (MSE), and the R-squared (R2) are calcutalued to evaluate the performance on the training and test sets.\n",
        "\n",
        "**Hyper-parameter Tuning**<br>\n",
        "With hyper-parameter tuning, where the parameter 'fit_intercept' is adjusted, the model will determine whether to calculate the intercept for the model. Tuning it can be beneficial when the relationship between features and the target variable does not require an intercept term. After tuning the hyper-parameter, it is noticable that the predictive performance of Linear Regression model has improved by comparing the RMSE, MSE and R2 value."
      ]
    },
    {
      "cell_type": "markdown",
      "metadata": {
        "id": "yQYhkcPvDA6U"
      },
      "source": [
        "### Comment on Predictive Ability\n",
        "Think about the metrics and scoring received from the training and testing components. Think about the generalisability and quality of your results."
      ]
    },
    {
      "cell_type": "markdown",
      "metadata": {
        "id": "P9U1CrDaDA6U"
      },
      "source": [
        "**Table of result of Root Mean Squared Error (RMSE), Mean Squared Error (MSE), and R-squared (R2) of different sets**<br>\n",
        "\n",
        "Set            |   RMSE   |  MSE  |  R2\n",
        "---------------|----------|-------|-------\n",
        "Training Set   |   0.654  | 0.428 | 0.566  \n",
        "Validation Set |   0.66   | 0.436 | 0.574   \n",
        "Test Set       |   0.664  | 0.441 | 0.552   \n",
        "\n",
        "**Analysis of the result**<br>\n",
        "The output \"Best Hyperparameters: {'fit_intercept': False}\" indicates that the best value for the fit_intercept parameter in the linear regression model is False.\n",
        "\n",
        "The result of the Root Mean Squared Error of the training(0.654), validation (0.66), and test (0.664) sets are quite close across the three sets, and this indicates that the explanatory ability is consistent across different datasets. The RMSE value of the test set (0.664) suggests that the model's predictions deviate by approximately 0.664 units from the actual values in the test set.\n",
        "\n",
        "\n",
        "The result of the Mean Squared Error of the training(0.428), validation (0.436), and test (0.441) sets are quite close across the three sets, indicating that the model's predictive performance is consistent.\n",
        "\n",
        "The result of the R-squared of the training(0.566), validation (0.574), and test (0.552) sets are also close to each other. This indicates that the explanatory ability is consistent across different datasets. The value of the R-squared of the test set (0.552) also suggests that the model has a moderate level of predictive power.\n",
        "\n",
        "Overall, the model provides a moderate level of predictive performance as indicated by the moderate RMSE, MSE, and R2 values. The consistency in performance across training, validation, and test sets suggests that the model is capturing meaningful patterns in the data."
      ]
    },
    {
      "cell_type": "markdown",
      "metadata": {
        "id": "QvlUWwaHDA6U"
      },
      "source": [
        "## Machine Learning Model 2\n",
        "In this section your will select an appropriate machine learning model for predicting **'median_house_value'**, apply it to the dataset to perform this prediction on the test set created in the Train, Validate, Test Split section, and comment on the predictive ability of the model you selected."
      ]
    },
    {
      "cell_type": "markdown",
      "metadata": {
        "id": "-zHMJznCDA6U"
      },
      "source": [
        "### Select and Build a Machine Learning Model 2\n",
        "Think about the task at hand, and select an appropriate model to build on the train and validate data. Try different sets of hyper-parameters to improve your model."
      ]
    },
    {
      "cell_type": "code",
      "execution_count": null,
      "metadata": {
        "id": "JIhuMZvTDA6V",
        "colab": {
          "base_uri": "https://localhost:8080/"
        },
        "outputId": "97f1ab4f-9e64-4f99-a8fa-79dd3adf047a"
      },
      "outputs": [
        {
          "output_type": "stream",
          "name": "stdout",
          "text": [
            "\n",
            "Best Hyperparameters: {'C': 10, 'gamma': 'auto', 'kernel': 'rbf'}\n",
            "--- Training Set Results ---\n",
            "Root Mean Squared Error on Training Set: 0.544\n",
            "Mean Squared Error on Training Set: 0.296\n",
            "R-squared on Training Set: 0.7\n",
            "--- Validation Set Results ---\n",
            "Root Mean Squared Error on Validation Set: 0.571\n",
            "Mean Squared Error on Validation Set: 0.326\n",
            "R-squared on Validation Set: 0.681\n"
          ]
        }
      ],
      "source": [
        "from sklearn.svm import SVR\n",
        "from sklearn.model_selection import GridSearchCV\n",
        "from sklearn.metrics import mean_squared_error, r2_score\n",
        "import numpy as np\n",
        "\n",
        "svm_regressor = SVR()\n",
        "\n",
        "param_grid = {'kernel': ['linear', 'rbf'], 'C': [0.1, 1, 10], 'gamma': ['scale', 'auto']}\n",
        "grid_search = GridSearchCV(estimator=svm_regressor, param_grid=param_grid, scoring='neg_mean_squared_error', cv=5)\n",
        "grid_search.fit(X_train, y_train)\n",
        "best_params = grid_search.best_params_\n",
        "print(f'\\nBest Hyperparameters: {best_params}')\n",
        "best_svm_regressor = SVR(**best_params)\n",
        "best_svm_regressor.fit(X_train, y_train)\n",
        "\n",
        "y_train_pred = best_svm_regressor.predict(X_train)\n",
        "\n",
        "mse_train = mean_squared_error(y_train, y_train_pred)\n",
        "rmse_train = np.sqrt(mse_train)\n",
        "r2_train = r2_score(y_train, y_train_pred)\n",
        "print(f'--- Training Set Results ---')\n",
        "print(f'Root Mean Squared Error on Training Set: {round(rmse_train, 3)}')\n",
        "print(f'Mean Squared Error on Training Set: {round(mse_train, 3)}')\n",
        "print(f'R-squared on Training Set: {round(r2_train, 3)}')\n",
        "\n",
        "y_val_pred = best_svm_regressor.predict(X_val)\n",
        "\n",
        "mse_val = mean_squared_error(y_val, y_val_pred)\n",
        "rmse_val = np.sqrt(mse_val)\n",
        "r2_val = r2_score(y_val, y_val_pred)\n",
        "print(f'--- Validation Set Results ---')\n",
        "print(f'Root Mean Squared Error on Validation Set: {round(rmse_val, 3)}')\n",
        "print(f'Mean Squared Error on Validation Set: {round(mse_val, 3)}')\n",
        "print(f'R-squared on Validation Set: {round(r2_val, 3)}')"
      ]
    },
    {
      "cell_type": "markdown",
      "metadata": {
        "id": "RueXUjg4DA6V"
      },
      "source": [
        "### Use Model 2 to Predict on Test Data\n",
        "Use the model you've trained to predict **'median_house_value'** on the test data."
      ]
    },
    {
      "cell_type": "code",
      "execution_count": null,
      "metadata": {
        "id": "NxBT8HjTDA6V",
        "colab": {
          "base_uri": "https://localhost:8080/"
        },
        "outputId": "32c0e207-f1fc-4173-cd72-4149a33d89e9"
      },
      "outputs": [
        {
          "output_type": "stream",
          "name": "stdout",
          "text": [
            "--- Test Set Results ---\n",
            "Root Mean Squared Error on Test Set: 0.57\n",
            "Mean Squared Error on Test Set: 0.325\n",
            "R-squared on Test Set: 0.67\n"
          ]
        }
      ],
      "source": [
        "y_test_pred = best_svm_regressor.predict(X_test)\n",
        "\n",
        "mse_test = mean_squared_error(y_test, y_test_pred)\n",
        "rmse_test = np.sqrt(mse_test)\n",
        "r2_test = r2_score(y_test, y_test_pred)\n",
        "print('--- Test Set Results ---')\n",
        "print(f'Root Mean Squared Error on Test Set: {round(rmse_test, 3)}')\n",
        "print(f'Mean Squared Error on Test Set: {round(mse_test, 3)}')\n",
        "print(f'R-squared on Test Set: {round(r2_test, 3)}')"
      ]
    },
    {
      "cell_type": "markdown",
      "metadata": {
        "id": "u3EoVlbFDA6V"
      },
      "source": [
        "### Rationale\n",
        "Provide a rationale for model"
      ]
    },
    {
      "cell_type": "markdown",
      "metadata": {
        "id": "_xecNIzrDA6V"
      },
      "source": [
        "**Machine Learning Model 2: Support Vector Machine(SVM)**<br>\n",
        "In this section, SVM Regressor model is applied to build on the train and validate data. Firstly, the SVM Regressor model is initialised with SVR(), and hyperparameters is defined for a later grid search. Grid search, which is used for finding the best hyperparameters for the model, is applied on the training set. After obtaining the best hyperparameter from the Grid search, it is applied to create a new SVM Regressor model. The new SVM Regressor model is then used to train the training set. Prediction is then made to the train, validate, and test. The Root Mean Squared Error (RMSE), Mean Squared Error (MSE), and the R-squared (R2) are calcutalued to evaluate the performance on the training and test sets.\n",
        "\n",
        "**Hyper-parameter Tuning**<br>\n",
        "With hyper-parameter tuning, where the parameter 'kernel', 'C', and 'gamma' are adjusted, the performance of the model is improved. It is determined by comparing the result of RMSE, MSE, and R2 before and after adding hyper-parameter. The choice of kernel can significantly impact the model's ability to capture complex patterns in the data. Also, adjusting 'C' can help prevent overfitting or underfitting which can balance between decision boundaries and classifications. 'Gamma' is also adjusted to prevent overfitting and underfitting of data."
      ]
    },
    {
      "cell_type": "markdown",
      "metadata": {
        "id": "BFKdhfWkDA6V"
      },
      "source": [
        "### Comment on Predictive Ability\n",
        "Think about the metrics and scoring received from the training and testing components. Think about the generalisability and quality of your results."
      ]
    },
    {
      "cell_type": "markdown",
      "metadata": {
        "id": "eytuzyjJDA6c"
      },
      "source": [
        "**Table of result of Root Mean Squared Error (RMSE), Mean Squared Error (MSE), and R-squared (R2) of different sets**\n",
        "\n",
        "Set            |   RMSE   |  MSE  |  R2\n",
        "---------------|----------|-------|-------\n",
        "Training Set   |   0.544  | 0.296 | 0.7  \n",
        "Validation Set |   0.571  | 0.326 | 0.681   \n",
        "Test Set       |   0.57   | 0.325 | 0.67   \n",
        "\n",
        "**Analysis of the result**<br>\n",
        "From the output of the Grid Search, Best Hyperparameters: {'C': 10, 'gamma': 'auto', 'kernel': 'rbf'}\" is the best hyperparameter in the SVM Regressor model.\n",
        "\n",
        "The result of the Root Mean Squared Error of the training(0.544), validation (0.571), and test (0.57) sets are quite close across the three sets, and this indicates that the explanatory ability is consistent across different datasets. The RMSE value of the test set (0.57) suggests that the model's predictions deviate by approximately 0.57 units from the actual values in the test set.\n",
        "\n",
        "\n",
        "The result of the Mean Squared Error of the training(0.296), validation (0.326), and test (0.325) sets are quite close across the three sets, indicating that the model's predictive performance is consistent.\n",
        "\n",
        "The result of the R-squared of the training(0.7), validation (0.681), and test (0.67) sets are also close to each other. This indicates that the explanatory ability is consistent across different datasets. The value of the R-squared of the test set (0.67) also suggests that the model has a moderate level of predictive power.\n",
        "\n",
        "Overall, the model provides a good level of predictive performance as indicated by the value of RMSE, MSE, and R2. The consistency in performance across training, validation, and test sets suggests that the model is capturing meaningful patterns in the data."
      ]
    },
    {
      "cell_type": "markdown",
      "metadata": {
        "id": "8TlbCVF3DA6c"
      },
      "source": [
        "## Machine Learning Model 3\n",
        "In this section your will select an appropriate machine learning model for predicting **'median_house_value'**, apply it to the dataset to perform this prediction on the test set created in the Train, Validate, Test Split section, and comment on the predictive ability of the model you selected."
      ]
    },
    {
      "cell_type": "markdown",
      "metadata": {
        "id": "lswlDmOPDA6c"
      },
      "source": [
        "### Select and Build a Machine Learning Model 3\n",
        "Think about the task at hand, and select an appropriate model to build on the train and validate data. Try different sets of hyper-parameters to improve your model."
      ]
    },
    {
      "cell_type": "code",
      "execution_count": null,
      "metadata": {
        "id": "voZRyDLJDA6c",
        "colab": {
          "base_uri": "https://localhost:8080/"
        },
        "outputId": "d5e4659a-f514-4e99-9e67-fd81c430b2d9"
      },
      "outputs": [
        {
          "output_type": "stream",
          "name": "stdout",
          "text": [
            "Best Hyperparameters: {'max_depth': None, 'min_samples_leaf': 4, 'min_samples_split': 2, 'n_estimators': 150}\n",
            "--- Training Set Results (Random Forest) ---\n",
            "Root Mean Squared Error on Training Set: 0.376\n",
            "Mean Squared Error on Training Set: 0.141\n",
            "R-squared on Training Set: 0.857\n",
            "Root Mean Squared Error on Validation Set: 0.583\n",
            "Mean Squared Error on Validation Set: 0.34\n",
            "R-squared on Validation Set: 0.667\n"
          ]
        }
      ],
      "source": [
        "from sklearn.ensemble import RandomForestRegressor\n",
        "from sklearn.model_selection import GridSearchCV\n",
        "from sklearn.metrics import mean_squared_error, r2_score\n",
        "import numpy as np\n",
        "\n",
        "random_seed = 42\n",
        "rf_regressor = RandomForestRegressor(random_state=random_seed)\n",
        "\n",
        "param_grid = {\n",
        "    'n_estimators': [50, 100, 150],\n",
        "    'max_depth': [None, 10, 20],\n",
        "    'min_samples_split': [2, 5, 10],\n",
        "    'min_samples_leaf': [1, 2, 4]\n",
        "}\n",
        "grid_search = GridSearchCV(estimator=rf_regressor, param_grid=param_grid, scoring='neg_mean_squared_error', cv=5)\n",
        "grid_search.fit(X_train, y_train)\n",
        "best_params = grid_search.best_params_\n",
        "print(f'Best Hyperparameters: {best_params}')\n",
        "best_rf_regressor = RandomForestRegressor(**best_params, random_state=random_seed)\n",
        "best_rf_regressor.fit(X_train, y_train)\n",
        "\n",
        "y_train_pred_rf = best_rf_regressor.predict(X_train)\n",
        "\n",
        "mse_train_rf = mean_squared_error(y_train, y_train_pred_rf)\n",
        "rmse_train_rf = np.sqrt(mse_train_rf)\n",
        "r2_train_rf = r2_score(y_train, y_train_pred_rf)\n",
        "print(f'--- Training Set Results (Random Forest) ---')\n",
        "print(f'Root Mean Squared Error on Training Set: {round(rmse_train_rf, 3)}')\n",
        "print(f'Mean Squared Error on Training Set: {round(mse_train_rf, 3)}')\n",
        "print(f'R-squared on Training Set: {round(r2_train_rf, 3)}')\n",
        "\n",
        "y_val_pred_rf = best_rf_regressor.predict(X_val)\n",
        "\n",
        "mse_val_rf = mean_squared_error(y_val, y_val_pred_rf)\n",
        "rmse_val_rf = np.sqrt(mse_val_rf)\n",
        "r2_val_rf = r2_score(y_val, y_val_pred_rf)\n",
        "print(f'Root Mean Squared Error on Validation Set: {round(rmse_val_rf, 3)}')\n",
        "print(f'Mean Squared Error on Validation Set: {round(mse_val_rf, 3)}')\n",
        "print(f'R-squared on Validation Set: {round(r2_val_rf, 3)}')"
      ]
    },
    {
      "cell_type": "markdown",
      "metadata": {
        "id": "NPtYrdmqDA6c"
      },
      "source": [
        "### Use Model 3 to Predict on Test Data\n",
        "Use the model you've trained to predict **'median_house_value'** on the test data."
      ]
    },
    {
      "cell_type": "code",
      "execution_count": null,
      "metadata": {
        "id": "bcpHC7nHDA6c",
        "colab": {
          "base_uri": "https://localhost:8080/"
        },
        "outputId": "29969cc2-3157-4388-df2f-b23fb768105c"
      },
      "outputs": [
        {
          "output_type": "stream",
          "name": "stdout",
          "text": [
            "--- Test Set Results (Random Forest) ---\n",
            "Root Mean Squared Error on Test Set: 0.58\n",
            "Mean Squared Error on Test Set: 0.337\n",
            "R-squared on Test Set: 0.658\n"
          ]
        }
      ],
      "source": [
        "y_test_pred_rf = best_rf_regressor.predict(X_test)\n",
        "\n",
        "mse_test_rf = mean_squared_error(y_test, y_test_pred_rf)\n",
        "rmse_test_rf = np.sqrt(mse_test_rf)\n",
        "r2_test_rf = r2_score(y_test, y_test_pred_rf)\n",
        "print('--- Test Set Results (Random Forest) ---')\n",
        "print(f'Root Mean Squared Error on Test Set: {round(rmse_test_rf, 3)}')\n",
        "print(f'Mean Squared Error on Test Set: {round(mse_test_rf, 3)}')\n",
        "print(f'R-squared on Test Set: {round(r2_test_rf, 3)}')"
      ]
    },
    {
      "cell_type": "markdown",
      "metadata": {
        "id": "qa3CYFrBDA6c"
      },
      "source": [
        "### Rationale\n",
        "Provide a rationale for model"
      ]
    },
    {
      "cell_type": "markdown",
      "metadata": {
        "id": "qeATg7ugDA6d"
      },
      "source": [
        "**Machine Learning Model 3: Random Forest Regressor**<br>\n",
        "In this section, Random Forest Regressor model is applied to build on the train and validate data. Firstly, the Random Forest Regressor model is initialised with RandomForestRegressor(), and hyperparameters is defined for a later grid search. Grid search, which is used for finding the best hyperparameters for the model, is applied on the training set. After obtaining the best hyperparameter from the Grid search, it is applied to create a new Random Forest Regressor model. The new Random Forest Regressor model is then used to train the training set. Prediction is then made to the train, validate, and test. The Root Mean Squared Error (RMSE), Mean Squared Error (MSE), and the R-squared (R2) are calcutalued to evaluate the performance on the training and test sets. The randome state is set to 42 so that same result will be generated.\n",
        "\n",
        "**Hyper-parameter Tuning**<br>\n",
        "With hyper-parameter tuning, where the parameter 'n_estimators', 'max_depth', 'min_samples_split', and 'min_samples_leaf' are adjusted, the performance of the model is improved. It is determined by comparing the result of RMSE, MSE, and R2 before and after adding hyper-parameter. 'N_estimators' is adjusted to determine the number of trees in the forest, which helps reduce overfitting and improves model accuracy. Besides, 'max_depth' changes the maximum depth of the trees, which helps prevent overfitting. 'Min_samples_split', and 'min_samples_leaf' help control overfitting by preventing the creation of nodes with too few samples."
      ]
    },
    {
      "cell_type": "markdown",
      "metadata": {
        "id": "IAZiv1P8DA6d"
      },
      "source": [
        "### Comment on Predictive Ability\n",
        "Think about the metrics and scoring received from the training and testing components. Think about the generalisability and quality of your results."
      ]
    },
    {
      "cell_type": "markdown",
      "metadata": {
        "id": "H6wGdhTrDA6d"
      },
      "source": [
        "**Table of result of Root Mean Squared Error (RMSE), Mean Squared Error (MSE), and R-squared (R2) of different sets**\n",
        "\n",
        "Set            |   RMSE   |  MSE  |  R2\n",
        "---------------|----------|-------|-------\n",
        "Training Set   |   0.376  | 0.141 | 0.857  \n",
        "Validation Set |   0.583  | 0.34  | 0.667   \n",
        "Test Set       |   0.58   | 0.337 | 0.658   \n",
        "\n",
        "**Analysis of the result**<br>\n",
        "From the output of the Grid Search, \"{'max_depth': None, 'min_samples_leaf': 4, 'min_samples_split': 2, 'n_estimators': 150}\" is the best hyperparameter in the Random Forest Regressor model.\n",
        "\n",
        "The result of the Root Mean Squared Error of the training (0.376), validation(0.583), and test (0.58) are relatively low, indicating the model's prediction are close to the actual value. The RMSE value of the test set (0.58) suggests that the model's predictions deviate by approximately 0.58 units from the actual values in the test set.\n",
        "\n",
        "The result of the Mean Squared Error of the training (0.141), validation(0.34), and test (0.337) are low, confirming the accuracy of the model's predictions.\n",
        "\n",
        "The result of the R-squared of the training (0.857), validation(0.677), and test (0.658) are also quite high, indicating it explains most of the difference in the target variable well.\n",
        "\n",
        "Overall, the model provides a good level of predictive power. The value of RMSE and R2 score suggests that the model accurate predictions with a good level of explanatory power on the test set."
      ]
    },
    {
      "cell_type": "markdown",
      "metadata": {
        "id": "GH4euD4zDA6d"
      },
      "source": [
        "## Comparison Between Models\n",
        "In this section you will comment on the difference in predictive ability between models, the difference in analysis metrics between models, and the pros/cons of each model as you understand it."
      ]
    },
    {
      "cell_type": "markdown",
      "metadata": {
        "id": "r4YeU7CpDA6d"
      },
      "source": [
        "### Difference in Predictive Ability\n",
        "Think about what you understand if the predictive ability from each model based on scores gained, comment on the difference between each model and suggest why you believe this to be the case. Additionally comment on the difference in hyper-parameter selection between your models."
      ]
    },
    {
      "cell_type": "markdown",
      "metadata": {
        "id": "aQb9cKtuDA6d"
      },
      "source": [
        "**Predictive ability of each model**<br>\n",
        "The predictive ability of all the models are compared with the R-squared (R2) score. The R-squared score of Linear Regression is 0.552, SVM Regressor is 0.67, and Random Forest Regressor is 0.658. Among all the three models used, SVM Regressor has the highest R-squared score, suggesting that it has highest predictice ability. Linear Regression model has the lowest R-squared score, meaning that it has the lowest predictive ability. And for Random Forest Regressor, it has predictive level between Linear Rregression and SVM Regressor.\n",
        "\n",
        "**Comment on the difference between model**<br>\n",
        "The models' inherent capabilities may be the reason of the difference in predictive ability. For Linear Regression and SVM Regressor, they cannot capture complex relationship well, resulting in moderate predictive ability. For Random Forest Regressor, it has the ability to deal with non-linear data, and therefore can capture complex relationship bettwe and have better predictive ability.\n",
        "\n",
        "**Comment on the difference in hyper-parameter selection**<br>\n",
        "Firstly, for Linear Regression, fit_intercept with 'False' as the value is used as the hyperparameter. It is applied to determine whether to include an intercept term in the model. 'False' indicates that no intercept is used in the model. It is the simpliest model comparing with other two models as it has minimal hyperparameter tuning.\n",
        "\n",
        "For SVM Regressor, the choice of kernel ('linear' or 'rbf'), the regularization parameter ('C'), and the kernel coefficient ('gamma') are used as the tuning hyperparameters. The kernel dictates the nature of the decision boundary, C controls regularisation, and gamma controls the kernel shape. Unlike Linear Regression, it can deal with non-linear relationship. However, the hyperparameter has to be tuned carefully to prevent overfitting and to improve performance. '{'C': 10, 'gamma': 'auto', 'kernel': 'rbf'}' is used as the hyper-parameter.\n",
        "\n",
        "For Random Forest Regressor, the number of trees in the forest ('n_estimators'), the number of features considered for the best split ('max_features'), and the maximum depth of the tree ('max_depth') are used as the tuning hyperparameters. Unlike Linear Regression and SVM Regressor, the maximum number of features considered for each split is specified in Random Forest Regressor, and therefore can prevent overfitting. '{'max_depth': None, 'min_samples_leaf': 4, 'min_samples_split': 2, 'n_estimators': 150}' is used as the hyper-parameter."
      ]
    },
    {
      "cell_type": "markdown",
      "metadata": {
        "id": "MoypbA1yDA6d"
      },
      "source": [
        "### Difference in Analysis Metrics\n",
        "Think about the analysis metrics you received from each model, comment on the use in the difference of these metrics and suggesting which model is \"better\" or \"worse\" when comparing them."
      ]
    },
    {
      "cell_type": "markdown",
      "metadata": {
        "id": "wglhKYWqDA6e"
      },
      "source": [
        "To consider how well each model oerforms, the Mean Squared Error (MSE), Root Mean Squared Error (RMSE), and R-squared (R2) are used.\n",
        "\n",
        "For Mean Squared Error (MSE), SVM Regressor has the lowest MSE (0.325), indicating better predictive accuracy. Linear Regression has the highest MSE (0.441), indicating worser predictive accuracy.\n",
        "\n",
        "For Root Mean Squared Error (RMSE), Random Forest has the lowest RMSE (0.57), making it more accurate on average in predicting target values. Linear Regression has the highest RMSE (0.664), indicating it has worst performance in predicting the target values.\n",
        "\n",
        "For R-squared (R2), Random Forest has the highest R2 (0.67), indicating a better fit to the data. Linear Regression has the lowest RMSE (0.552), indicating a worse fit to the data.\n",
        "\n",
        "Overall, when comparing the RMSE, MSE, and R2 score, SVM Regressor has the best predictive performance than Linear Regression and SVM Regressor. Random Forest Regressor performs slightly better than Linear Regression in terms of MSE, RMSE, and R2. Linear Regression is considered as the worst model comparing with the other two models."
      ]
    },
    {
      "cell_type": "markdown",
      "metadata": {
        "id": "sXqKYx2qDA6e"
      },
      "source": [
        "### Pros/Cons\n",
        "Think about the models and analysis metrics you've gathered, and suggest the positives and negatives of each model."
      ]
    },
    {
      "cell_type": "markdown",
      "metadata": {
        "id": "NM24H4ZrDA6e"
      },
      "source": [
        "Firstly, for Linear Regression model, its benefit is that it provides straightforward interpretability. It is quick to train and easy to implement. Its negative is that it can only deal with linear relationships, and therefore cannot capture non-linear patterns.\n",
        "\n",
        "For SVM Regressor, its positive is that it provides higher flexibility where it can deal with non-linear relationships with the choices of kernels. Its drawback is that it is sensitive to the choice of hyperparameters, and therefore need tuning beforehand. It also requires longer training time when dealing with large and complex datasets.\n",
        "\n",
        "For Random Forest Regressor, its upside is that it has higher predictive ability because it captures complex relationships through ensemble learning. It can also deal with non-linear relationships. Its negative is that it may overfit data, leading to longer training time. Apart from that, the ensemble nature makes it less interpretable compared to a single decision tree becuase it does not provide complete visibility into the coefficients."
      ]
    },
    {
      "cell_type": "markdown",
      "metadata": {
        "id": "TWqY8i6WDA6e"
      },
      "source": [
        "## Conclusion\n",
        "In this section you will draw conclusions about the models you've selected, and efficacy of different analysis metrics you've used, and any additional comments or concerns about the models or metrics you've observed."
      ]
    },
    {
      "cell_type": "markdown",
      "metadata": {
        "id": "_Yz9DdqCDA6e"
      },
      "source": [
        "### Model Selection\n",
        "Think about all of the information you've learned both theoretically from the slides and practically through completing this assingment about the models you've selected. What conclusions can you draw about the models, and what situations would you pick one model over another?"
      ]
    },
    {
      "cell_type": "markdown",
      "metadata": {
        "id": "pAk5mPYWDA6e"
      },
      "source": [
        "Each model has its own upsides and downsides. Linear Regression is simplier and faster but cannot deal with non-linear relationships, SVM Regressor has higher flexibility but is more sensitive to the hyperparameters. Random Forest Regressor has higher predictive ability but takes longer to train. To decide which model has best predictive ability, the Mean Squared Error (MSE), Root Mean Squared Error (RMSE), and R-squared (R2) are calculated and used for comparison. After comparing the MSE, RMSE, and R2 scores, SVM Regressor has the best predictive ability while Random Forest Regressor and Linear Regression has moderate and worst predictive ability respectively.\n",
        "\n",
        "With hyper-parameter tuning, the predictive performance of Linear Regression, SVM Regressor, and Random Forest Regressor have improved. Therefore hyper-paramater tuning is applied to all of the models to have a better prediction result.\n",
        "\n",
        "When the relationship between features and the target is approximately linear, it is suitable to use Linear Regression. If the data has complex and non-linear pattern, and is tuning feasible, it is suitable to use SVM Regressor. If the data has complex and non-linear pattern, and the accuracy of prediction is prioritised, it is suitable to use Random Forest Regressor."
      ]
    },
    {
      "cell_type": "markdown",
      "metadata": {
        "id": "KtlcN7eWDA6e"
      },
      "source": [
        "### Analysis Metrics\n",
        "Think about the metrics you've selected and what you've learned both thetoretically from the slides and practically through this assignment. What conclusions can you draw about these metrics, and what situations might you pick one set of metrics over another? (Here you may comment on metrics which you have not selected in this assignment)"
      ]
    },
    {
      "cell_type": "markdown",
      "metadata": {
        "id": "AxffAxkRDA6e"
      },
      "source": [
        "Mean Squared Error (MSE), Root Mean Squared Error (RMSE), and R-squared (R2) are the matrics used for each model. MSE measures the average squared difference between predicted and actual values, RMSE is the square root of the MSE, which measures the original unit of the target variable, and R2 measures the proportion of the variance in the dependent variable that is predictable from the independent variables.\n",
        "\n",
        "There are situations where each of the metrics should be chosen. If the main concern is outlier sensitivity and error magnitude, MSE should be chosen. If interpretability, where  easily interpretable metric in the same unit as the target variable is needed, RMSE should be chosen. If we want to assess the proportion of variance in the dependent variable explained by the model, R2 should be chosen."
      ]
    },
    {
      "cell_type": "markdown",
      "metadata": {
        "id": "PQtTrrKMDA6f"
      },
      "source": [
        "### Any Additional Conclusions\n",
        "For those of you which have noticed things or made conclusions which do not neatly fit into any other section, please put them here."
      ]
    },
    {
      "cell_type": "markdown",
      "metadata": {
        "id": "OZjhiG6dDA6f"
      },
      "source": [
        "The result of metrics of all the Linear Regression, SVM Regressor, and Random Forest Regressor models suggest that all of them perform well. However, for Linear Regression, its simplicity may limit capturing complex patterns. SVM Regressor has good perdictive ability, but Random Forest Regressor outperforms it as it has lower RMSE, MSE, and higher R2.\n",
        "\n",
        "Before normalising the data and put it in models for training, outlier detection is taken place to remove outliers. In the code above, Z-score standardisation is applied. The reason why Z-score standardisation is picked because the dataset has large range, and extreme value may exist. It measures how many standard deviations a data point is from the mean, and these data point is treated as outliers and are removed. However, the result of metrics (RMSE, MSE, R2) are worse when outliers detection is performed, and therefore the dataset without removing outliers are used in each model.\n",
        "\n",
        "Apart from that, when considering the features for predicting 'median_house_value', different subsets are tried. For example, the features variable only contains 'median_income' instead of including all 'median_income', 'total_rooms', and 'housing_median_age'. However, the result of using only 'mediab_income' has worse result than using all 'median_income', 'total_rooms', and 'housing_median_age' features. Therefore, 'median_income', 'total_rooms', and 'housing_median_age' are used for predicting the value of 'median_house_value' at last."
      ]
    }
  ],
  "metadata": {
    "colab": {
      "provenance": []
    },
    "kernelspec": {
      "display_name": "Python 3",
      "name": "python3"
    },
    "language_info": {
      "name": "python"
    }
  },
  "nbformat": 4,
  "nbformat_minor": 0
}